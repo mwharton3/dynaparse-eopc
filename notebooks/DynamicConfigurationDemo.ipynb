{
 "cells": [
  {
   "cell_type": "code",
   "execution_count": 1,
   "id": "c635f6b8",
   "metadata": {},
   "outputs": [
    {
     "name": "stdout",
     "output_type": "stream",
     "text": [
      "/Users/mwharton/Code/dynaparse-eopc\n"
     ]
    }
   ],
   "source": [
    "%cd .."
   ]
  },
  {
   "cell_type": "code",
   "execution_count": 2,
   "id": "4f5e14d1",
   "metadata": {},
   "outputs": [],
   "source": [
    "from dynaparse import DynamicConfiguration"
   ]
  },
  {
   "cell_type": "code",
   "execution_count": 11,
   "id": "856efa4f",
   "metadata": {},
   "outputs": [],
   "source": [
    "cfg1 = DynamicConfiguration(\"configs/sample1.yml\")\n",
    "cfg2 = DynamicConfiguration(\"configs/sample2.yml\")"
   ]
  },
  {
   "cell_type": "markdown",
   "id": "b15ce29b",
   "metadata": {},
   "source": [
    "# To do:\n",
    "1. Load a dynamic configuration\n",
    "2. get_values()\n",
    "3. get_values(expand=True)\n",
    "4. merge_with() \n",
    "5. merge_with(inplace=True)"
   ]
  },
  {
   "cell_type": "code",
   "execution_count": 14,
   "id": "29ee7b09",
   "metadata": {},
   "outputs": [
    {
     "data": {
      "text/plain": [
       "{'cf1_arg1': [1, 2, 3], 'cf1_arg2': 3.1415926535897}"
      ]
     },
     "execution_count": 14,
     "metadata": {},
     "output_type": "execute_result"
    }
   ],
   "source": [
    "cfg1.get_values()"
   ]
  },
  {
   "cell_type": "code",
   "execution_count": 15,
   "id": "60127f20",
   "metadata": {},
   "outputs": [
    {
     "data": {
      "text/plain": [
       "<dynaparse.dynamic_configuration.DynamicConfiguration at 0x7ff3b0897040>"
      ]
     },
     "execution_count": 15,
     "metadata": {},
     "output_type": "execute_result"
    }
   ],
   "source": [
    "cfg1.merge_with(cfg2, inplace=True)"
   ]
  },
  {
   "cell_type": "code",
   "execution_count": 16,
   "id": "b2117224",
   "metadata": {},
   "outputs": [
    {
     "data": {
      "text/plain": [
       "{'cf1_arg1': [1, 2, 3],\n",
       " 'cf1_arg2': -999.0,\n",
       " 'cf2_arg1': 1,\n",
       " 'cf2_arg2': 'myarg',\n",
       " 'nested_section.cf2_subarg1': 1.234,\n",
       " 'nested_section.cf2_subarg2': 'mysubarg'}"
      ]
     },
     "execution_count": 16,
     "metadata": {},
     "output_type": "execute_result"
    }
   ],
   "source": [
    "cfg1.get_values()"
   ]
  },
  {
   "cell_type": "code",
   "execution_count": 13,
   "id": "c2586047",
   "metadata": {},
   "outputs": [
    {
     "data": {
      "text/plain": [
       "{'cf1_arg1': [1, 2, 3],\n",
       " 'cf1_arg2': -999.0,\n",
       " 'cf2_arg1': 1,\n",
       " 'cf2_arg2': 'myarg',\n",
       " 'nested_section': {'cf2_subarg1': 1.234, 'cf2_subarg2': 'mysubarg'}}"
      ]
     },
     "execution_count": 13,
     "metadata": {},
     "output_type": "execute_result"
    }
   ],
   "source": [
    "cfg3.get_values(expand=True)"
   ]
  }
 ],
 "metadata": {
  "kernelspec": {
   "display_name": "Python 3 (ipykernel)",
   "language": "python",
   "name": "python3"
  },
  "language_info": {
   "codemirror_mode": {
    "name": "ipython",
    "version": 3
   },
   "file_extension": ".py",
   "mimetype": "text/x-python",
   "name": "python",
   "nbconvert_exporter": "python",
   "pygments_lexer": "ipython3",
   "version": "3.8.12"
  }
 },
 "nbformat": 4,
 "nbformat_minor": 5
}
